{
 "cells": [
  {
   "cell_type": "markdown",
   "metadata": {},
   "source": [
    "# <h1><center>Reto técnico DS</center></h1> <a class=\"anchor\" id=\"5\"></a>\n",
    "\n",
    "![](https://media-exp2.licdn.com/dms/image/C4E0BAQFZvOVKaSv-Ng/company-logo_200_200/0/1535043168299?e=2147483647&v=beta&t=QF3T2CIyXiQc3-y44S8dQH1AF51HGhCNW2iLDHtbWHM)\n",
    "\n",
    "**Instrucciones:**\n",
    "* El presente reto consta de tres preguntas, de las cuales, tendrás que elegir y resolver\n",
    "dos de ellas.\n",
    "\n",
    "* Al recibir el reto, tendrás tres días para resolverlo y entregarlo.\n",
    "\n",
    "* El entregable constará de los siguiente:\n",
    "    * Repositorio que contenga todos el material que generaste durante la resolución del reto.\n",
    "    * Presentación ejecutiva de resultados.\n",
    "\n",
    "* Cualquier duda o ayuda que requieras (incluso si quieres platicar sobre ideas para resolver el reto), comunícate con José, el Lead de DS, al 5544509009.\n",
    "\n",
    "\n",
    "# Tabla de Contenido\n",
    "\n",
    "1. [Experiencia en Proyectos de ML](#1)\n",
    "\n",
    "    1.1. [Problema de negocio](#1.1)\n",
    "    \n",
    "    1.2. [Principales retos](#1.2)\n",
    "    \n",
    "    1.3. [El conjunto de datos](#1.3)\n",
    "   \n",
    "    1.4. [Metodología utilizada](#1.4)\n",
    "    \n",
    "    1.5. [Incorporacion al flujo de la empresa](#1.5)\n",
    "    \n",
    "    1.6. [Aprendizaje y resultados obtenidos](#1.6)\n",
    "\n",
    "\n",
    "2. [Caso de Uso](#2)\n",
    "\n",
    "    2.1 [Información del sistema y versiones de librerias ](#2.1)\n",
    "    \n",
    "    2.2 [Ingesta de Datos](#2.2)\n",
    "    \n",
    "    2.3 [Estructura de Datos](#2.3)\n",
    "    \n",
    "    2.4 [Ubicación Geográfica de los inmuebles](#2.4)\n",
    "    \n",
    "    2.5 [Análisis de datos](#2.5)\n",
    "    \n",
    "    2.6 [Análisis Geoestadistico (En desarrollo)](#2.6)\n",
    "    \n",
    "    2.7 [Modelo para determinar precio de la vivienda](#2.7)\n",
    "    \n",
    "      2.7.1 [Ingenieria de Caracteristicas](#2.7.1)\n",
    "        \n",
    "      2.7.2 [Modelo de evaluación](#2.7.2)\n",
    "      \n",
    "      2.7.3 [¿Cúales variables impactan en el precio?](#2.7.3)\n",
    "      \n",
    "      \n",
    "3. [Web app](#3)\n",
    "\n",
    "    3.1 [Más sobre Modelos en producción ](#3.1)\n",
    "    \n",
    "    3.2 [ MLFlow y AWS](#3.2)\n",
    "    \n",
    "    \n",
    "4. [Conclusiones](#4)\n",
    "\n",
    "----"
   ]
  },
  {
   "cell_type": "markdown",
   "metadata": {},
   "source": [
    "# 1. Experiencia en Proyectos de ML <a class=\"anchor\" id=\"1\"></a>\n",
    "\n",
    "Resume tu experiencia con algún proyecto de ML del que te sientas orgullos@. Resume el\n",
    "problema de negocio, los principales retos, el conjunto de datos, la metodología utilizada, la\n",
    "forma de incorporarlo en los procesos de la empresa, tus aprendizajes y los resultados\n",
    "obtenidos."
   ]
  },
  {
   "cell_type": "markdown",
   "metadata": {},
   "source": [
    "## 1.1 Problema de negocio <a class=\"anchor\" id=\"1.1\"></a>\n",
    "\n",
    "El más complejo y retador a la fecha ha sido en la empresa donde me encuentro actualmente, donde no existia ningun tipo de modelo ni mucho menos una infraestructura para servir modelos, solo dos personas con sueños y ganas de que esta empresa lograra su objectivo en cuanto a ciencia de datos.\n",
    "\n",
    "El problema radica en la división de créditos al consumo para México y Chile, donde en resumen, se le otorga un microprestamo al cliente con la finalidad que pudiera construir un historial financiero, usarlo en casos de emergencia, o como tambien crear ese laso con la compañia y lograr el acceso una variedad de productos los cuales se encuentran dentro del ecosistema de la empresa. Para esto, se necesitaba un sistema de evaluación el cual ayudase a identificar casos de riesgo y fraude oportunamente y con esto impactar a OKR principal de la divisón: **Reducir la Morosidad**.\n",
    "\n",
    "## 1.2 Principales retos <a class=\"anchor\" id=\"1.2\"></a>\n",
    "\n",
    "Los principales retos era:\n",
    "\n",
    "1. Crear el nuevo modelo de evaluación.\n",
    "2. La infraestructura y/o arquitectura que hará posible servir modelos en producción.\n",
    "\n",
    "## 1.3 El conjunto de datos <a class=\"anchor\" id=\"1.3\"></a>\n",
    "\n",
    "Los conjuntos de datos era complejo dado que existen 3 productos y la relación entre cada uno de ellos llevaban a indagar en tablas de hasta 400GB de datos no relacionales, esto incluida información del cliente, su interacción fuera y dentro de la plataforma, información crediticia, información relacionada al producto financiero de créditos, y entre otras fuentes de datos tanto externas como internas.\n",
    "\n",
    "## 1.4 Metodología utilizada <a class=\"anchor\" id=\"1.4\"></a>\n",
    "\n",
    "Para los modelos de evaluación usamos 2 algoritmos, cada uno en distinta etapa: **Regresión Logistica y XGBoost**. Para no extendernos demasiado, solo hablaré de la **Regresión Logistica**.\n",
    "\n",
    "#### Regresión logistica:\n",
    "\n",
    "**¿Porqué este modelo?**\n",
    "\n",
    "Sencillo, porque este modelo es usado frecuente mente para problemas de clasificación binaria y en caso de ser un conjunto de datos pequeño (Como lo era el producto de creditos), este algoritmo haria un buen trabajo (Evitando usar modelos complejos para evitar sobreajuste/overfitting)\n",
    "\n",
    "Otro punto importante a considerar desde la perspectiva de MLOps (Operaciones de Aprendizaje automatico, por sus siglas en inglés), la dificultad radica en lanzar a producción un modelo dado que existen una variedad de casos de uso y que estos se puedan ajustar a la arquitectura llevada acabo y los recursos computacionales disponibles. Sin embargo, este algoritmo no necesita recursos extensos, por lo que quiero decir que, puedo entrenarlo desde maquina local sin problema alguno.😄 En caso contrario de que sea una cantidad extensa de datos y necesitemos recurso adicional **(ya sea crecimiento vertical= Aumento de vCPU's, GPU, RAM u horizontal= Paralelismo, clusters, etc)** aqui podemos usar **SAGEMAKER** ya que nos pone a dispocisión un **Notebook Instance** que no es mas que un Jupyter Notebook y podemos calendarizar Training Jobs (Periodos de entrenamientos ligados a una EC2 administrada por Sagemaker), les dejo un ejemplo donde se usan los propios contenedores de Sagemaker ubicados en algun repositorio en ECR y todo lo referente  a i|o (Artifacts) en S3 o porqué no, también existe Databricks de Microsoft. 🤔\n",
    "\n",
    "\n",
    "![](https://miro.medium.com/max/1400/0*fouh2uP1Yw6lBno3.png)\n",
    "\n",
    "**Complejidad del modelo**\n",
    "\n",
    "Otro punto que comentaba era la complejidad, que si vemos el eje Y o linea horizontal que forma la grafica, podemos establecer de izquierda a derecha modelos de regresion hasta redes neuronales. Este tipo de modelos a veces es un poco complicado encontrar el **Bias** adecuado, que quiere decir que es la dificultar de encontrar patrones relevantes de los datos dados (input),que exista algun tipo de aprendizaje o capturar la verdadera relación. 😉\n",
    "\n",
    "![](https://showmax.engineering/2021/05/machine-learning-part-1/model_complexity-fc47176a.png)\n",
    "\n",
    "**Regresión Logistica**\n",
    "\n",
    "$$ ln(\\frac{P}{1-P})= b_{0}+b_{1}x_{x} $$\n",
    "\n",
    "**Función Sigmoide (No-lineal)**\n",
    "\n",
    "$$ P = \\frac {1}{1+e^Y} $$\n",
    "\n",
    "El calculo de probabilidad nos ayuda a definir un punto de corte dado cierto objetivo de negocio. En este ejemplo gráfico el umbral es de 0.5:\n",
    "\n",
    "![](https://static.javatpoint.com/tutorial/machine-learning/images/logistic-regression-in-machine-learning.png)\n",
    "\n",
    "\n",
    "Desde **sklearn** API, este algoritmo se encuentra disponible, para lo cual adjunto su documentación: [skelarn](https://scikit-learn.org/stable/modules/generated/sklearn.linear_model.LogisticRegression.html) Logistic Regression\n",
    "\n",
    "El algoritmo se adapta a problemas clasificación binaria y multiclase. Y como dato adicional, la **función softmax** es usada para predecir la probabilidad de una variable multiclase😯.\n",
    "\n",
    "**L2 para la suma de cuadrados sobre los residuales**:\n",
    "\n",
    "$\\sum_{i=1}^n(Y_i-\\sum_{j=1}^p x_{ij} \\beta_j)^2 + \\lambda\\sum_{j=1}^p \\beta_j^2 $\n",
    "\n",
    "\n",
    "**L2 para Logit**:\n",
    "\n",
    "Grande $\\lambda$ = Alto Sesgo and baja Varianza.\n",
    "\n",
    "Pequeño $\\lambda$ = Bajo Sesgo and alta Varianza.\n",
    "\n",
    "$\\lambda$ = 1 es un ajuste conservador.\n",
    "\n",
    "Donde esto solo quiere decir, que optimiza la suma de probabilidaddes porque la regresion logistica usa **Maximum Likelihood**.\n",
    "\n",
    "**suma de las probabilidades + $\\lambda  \\times slope^2 $**\n",
    "\n",
    "\n",
    "\n",
    "## 1.5 Incorporacion al flujo de la empresa <a class=\"anchor\" id=\"1.5\"></a>\n",
    "\n",
    "Era de gran importancia conocer el flujo de producto, sin embargo, esto fue sencillo una vez que estuviera definido los pasos del proceso, para esto el modelo ya estaba servido en la nube y por lo tanto una función hacia la llamada al modelo la cual contenia una API (API con su respectiva URL) con un método POST el cual su funcionalidad no era mas que ir a buscar los datos del cliente y pasarlos por modelo. Entonces este nos regresaba una calificación y dado el punto de corte que existiera en el momento, iba a ser rechazado o aceptado para avanzar a la siguiente etapa.\n",
    "\n",
    "\n",
    "## 1.6 Aprendizaje y resultados obtenidos <a class=\"anchor\" id=\"1.6\"></a>\n",
    "\n",
    "Logramos usar eficientemente los recursos disponibles para mitigar deuda técnica, tener un modelo de evaluación sofisticado y una arquitectura que respalda cada lanzamiento a producción. Esto nos ayudó a fijar puntos de corte para alcanzar ciertos objetivos y tener control sobre este proceso de evaluación puesto que también nos permite actualizarnos a lo que está pasando en el mundo y con esto me refiero al tema de **Data Drift**.\n",
    "\n",
    "----\n"
   ]
  },
  {
   "cell_type": "markdown",
   "metadata": {},
   "source": [
    "# 2. Caso de uso <a class=\"anchor\" id=\"2\"></a>\n",
    "\n",
    "El archivo reto_precios.csv contiene información sobre precios de departamentos nuevos\n",
    "dentro de la CDMX, junto con diversas características del inmueble. Para esta pregunta,\n",
    "requerimos que nos puedas explicar los factores que influyen en el precio por metro cuadrado\n",
    "de cada vivienda (Hint: Existe información externa que te podría ser útil para resolver esta\n",
    "pregunta).\n",
    "\n",
    "El conocimiento empirico nos dice que los factores que inciden en el precio del m2 de las viviendas son:\n",
    "\n",
    "1. Calidad de los acabados.\n",
    "2. Bienes muebles disponibles.\n",
    "3. Análisis de plusvalia.\n",
    "\n",
    "En el siguiente estudio haremos un estudio para determinar el precio por m2 dado el uso de ciencia del dato.\n",
    "\n",
    "\n",
    "# 2.1 Información del sistema y versiones de librerias <a class=\"anchor\" id=\"2.1\"></a>"
   ]
  },
  {
   "cell_type": "code",
   "execution_count": 8,
   "metadata": {},
   "outputs": [
    {
     "name": "stdout",
     "output_type": "stream",
     "text": [
      "Información de sistema\n",
      "----------------------------------------------------\n",
      "Python version: ['3.7.3 (default, Mar 27 2019, 22:11:17) ', '[GCC 7.3.0]']\n",
      "system: Linux\n",
      "machine: x86_64\n",
      "platform: Linux-5.10.16.3-microsoft-standard-WSL2-x86_64-with-debian-bullseye-sid\n",
      "\n",
      "Librerias - Versiones necesarias para producción\n",
      "----------------------------------------------------\n",
      "{'pip': ['numpy==1.21.5', 'pandas==1.3.5', 'streamlit==1.8.1']}\n"
     ]
    }
   ],
   "source": [
    "import sys\n",
    "import platform\n",
    "import pandas as pd\n",
    "import numpy as np\n",
    "import streamlit as st\n",
    "\n",
    "print(\"Información de sistema\")\n",
    "print('----------------------------------------------------')\n",
    "print(\"\"\"Python version: %s\n",
    "system: %s\n",
    "machine: %s\n",
    "platform: %s\n",
    "\"\"\" % (\n",
    "sys.version.split('\\n'),\n",
    "platform.system(),\n",
    "platform.machine(),\n",
    "platform.platform()\n",
    "))\n",
    "\n",
    "\n",
    "print('Librerias - Versiones necesarias para producción')\n",
    "print('----------------------------------------------------')\n",
    "config = {'pip':[\n",
    "    'numpy=={}'.format(np.__version__),\n",
    "    'pandas=={}'.format(pd.__version__),\n",
    "    'streamlit=={}'.format(st.__version__)\n",
    "]\n",
    "}\n",
    "print(config)"
   ]
  },
  {
   "cell_type": "markdown",
   "metadata": {},
   "source": [
    "# 2.2 Ingesta de Datos <a class=\"anchor\" id=\"2.2\"></a>\n",
    "\n",
    "\n",
    "Usamos el motor de SQLite para hacer consultar directamente desde nuestro dataset y aprovechar al máximo la funcionalidad de SQL."
   ]
  },
  {
   "cell_type": "code",
   "execution_count": 9,
   "metadata": {},
   "outputs": [
    {
     "name": "stderr",
     "output_type": "stream",
     "text": [
      "2022-08-04 15:21:41.156 WARNING root: Warning message: Install necessary dependencies - run 'pip install -r requirements.txt' command\n"
     ]
    },
    {
     "name": "stdout",
     "output_type": "stream",
     "text": [
      "Connection Established to ddtres_data\n"
     ]
    },
    {
     "data": {
      "text/plain": [
       "<sqlite3.Connection at 0x7fdc4069f110>"
      ]
     },
     "execution_count": 9,
     "metadata": {},
     "output_type": "execute_result"
    }
   ],
   "source": [
    "from ds_config import ddtres_db as ddtres\n",
    "pd.pandas.set_option('display.max_columns',None)\n",
    "pd.pandas.set_option('display.max_rows',None)\n",
    "import matplotlib.pyplot as plt\n",
    "import seaborn as sb\n",
    "import datetime \n",
    "from datetime import date, timedelta\n",
    "\n",
    "# Initialize ddtres database\n",
    "\n",
    "ddtres.connect()"
   ]
  },
  {
   "cell_type": "code",
   "execution_count": 11,
   "metadata": {},
   "outputs": [
    {
     "name": "stderr",
     "output_type": "stream",
     "text": [
      "2022-08-04 15:22:34.795 INFO    root: Table uploaded successfully\n"
     ]
    },
    {
     "name": "stdout",
     "output_type": "stream",
     "text": [
      "Connection Established to ddtres_data\n",
      "Connection Established to ddtres_data\n"
     ]
    },
    {
     "data": {
      "text/plain": [
       "[('real_state_data',)]"
      ]
     },
     "execution_count": 11,
     "metadata": {},
     "output_type": "execute_result"
    }
   ],
   "source": [
    "# Subir tabla a ddtres_data db\n",
    "\n",
    "ddtres.upload_table('reto_precios','real_state_data')\n",
    "\n",
    "# Instancia del metodo get_query_table\n",
    "\n",
    "query = ddtres.get_query_table\n",
    "\n",
    "# Tablas disponibles sobre ddtres_data\n",
    "\n",
    "ddtres.show_tables()\n",
    "\n",
    "# Más sobre la clase ddtres_db - Descomentar la siguiente linea de codigo\n",
    "\n",
    "# ??ddtres "
   ]
  },
  {
   "cell_type": "markdown",
   "metadata": {},
   "source": [
    "## 2. 3 Estructura de Datos <a class=\"anchor\" id=\"2.3\"></a>\n",
    "\n",
    "Tipos"
   ]
  },
  {
   "cell_type": "code",
   "execution_count": 14,
   "metadata": {},
   "outputs": [
    {
     "name": "stdout",
     "output_type": "stream",
     "text": [
      "Connection Established to ddtres_data\n",
      "Connection Established to ddtres_data\n",
      "<class 'pandas.core.frame.DataFrame'>\n",
      "Int64Index: 981 entries, 0 to 980\n",
      "Data columns (total 36 columns):\n",
      " #   Column                   Non-Null Count  Dtype  \n",
      "---  ------                   --------------  -----  \n",
      " 0   main_name                981 non-null    object \n",
      " 1   subtitle                 981 non-null    object \n",
      " 2   link                     981 non-null    object \n",
      " 3   location                 981 non-null    object \n",
      " 4   price                    981 non-null    object \n",
      " 5   attributes               981 non-null    object \n",
      " 6   timestamp                981 non-null    object \n",
      " 7   id                       981 non-null    int64  \n",
      " 8   address                  702 non-null    object \n",
      " 9   since                    981 non-null    object \n",
      " 10  description              981 non-null    object \n",
      " 11  vendor                   981 non-null    object \n",
      " 12  lat                      981 non-null    float64\n",
      " 13  lon                      981 non-null    float64\n",
      " 14  price_mod                981 non-null    float64\n",
      " 15  price_currency           981 non-null    object \n",
      " 16  since_period             981 non-null    object \n",
      " 17  since_value              981 non-null    int64  \n",
      " 18  days_on_site             981 non-null    float64\n",
      " 19  amenities                504 non-null    float64\n",
      " 20  age_in_years             981 non-null    float64\n",
      " 21  bathrooms                981 non-null    float64\n",
      " 22  cellars                  52 non-null     float64\n",
      " 23  num_floors               84 non-null     float64\n",
      " 24  monthly_fee              128 non-null    object \n",
      " 25  apartments_per_floor     15 non-null     float64\n",
      " 26  disposition              20 non-null     object \n",
      " 27  parking_lots             981 non-null    int64  \n",
      " 28  floor_situated           24 non-null     float64\n",
      " 29  orientation              8 non-null      object \n",
      " 30  num_bedrooms             981 non-null    float64\n",
      " 31  department_type          39 non-null     object \n",
      " 32  m2                       981 non-null    float64\n",
      " 33  final_price              981 non-null    float64\n",
      " 34  price_square_meter       981 non-null    float64\n",
      " 35  monthly_fee_transformed  128 non-null    float64\n",
      "dtypes: float64(16), int64(3), object(17)\n",
      "memory usage: 283.6+ KB\n",
      "\n",
      "Data Records\n",
      "-------------------------------------------------------\n",
      "Number of categorical variables: 17\n",
      "Number of numerical variables: 19\n",
      "Number of categorical variables with NA: 5 -----------> ['address', 'monthly_fee', 'disposition', 'orientation', 'department_type']\n",
      "Number of numerical variables with NA: 6 ----------> ['amenities', 'cellars', 'num_floors', 'apartments_per_floor', 'floor_situated', 'monthly_fee_transformed']\n",
      "-------------------------------------------------------\n",
      "Shape of matrix format: (981, 36)\n",
      "-------------------------------------------------------\n"
     ]
    }
   ],
   "source": [
    "dataset = \"\"\"\n",
    "SELECT *\n",
    "FROM real_state_data rs\n",
    "\"\"\"\n",
    "\n",
    "montly_fee = \"\"\" SELECT id,CAST(substr(monthly_fee,1,INSTR(monthly_fee, \" \")) AS INTEGER) as monthly_fee_transformed\n",
    "FROM real_state_data\"\"\"\n",
    "\n",
    "data = pd.merge(query(dataset).drop('index',axis=1), query(montly_fee),how='inner',on='id')\n",
    "data.info()\n",
    "division = '-'*55\n",
    "\n",
    "# Data Structure\n",
    "print('\\nData Records')\n",
    "print(division)\n",
    "\n",
    "cat_vars = [var for var in data.columns if data[var].dtype == 'O']\n",
    "print('Number of categorical variables:', len(cat_vars))\n",
    "\n",
    "num_vars = [var for var in data.columns if data[var].dtype in ('float64','int64')]\n",
    "print('Number of numerical variables:', len(num_vars))\n",
    "\n",
    "##Chec NA values through the variables\n",
    "var_with_na = [var for var in data.columns if data[var].isnull().sum()>0]\n",
    "cat_na = [var for var in cat_vars if var in var_with_na]\n",
    "num_na = [var for var in num_vars if var in var_with_na]\n",
    "\n",
    "print('Number of categorical variables with NA:', len(cat_na),'----------->', cat_na)\n",
    "print('Number of numerical variables with NA:', len(num_na),'---------->', num_na)\n",
    "print(division)\n",
    "print(f'Shape of matrix format: {data.shape}')\n",
    "print(division)"
   ]
  },
  {
   "cell_type": "markdown",
   "metadata": {},
   "source": [
    "# 2.4 Ubicación geografica de los inmuebles <a class=\"anchor\" id=\"2.4\"></a>\n",
    "\n",
    "Donde se encuentran estos hogares."
   ]
  },
  {
   "cell_type": "code",
   "execution_count": 38,
   "metadata": {},
   "outputs": [
    {
     "data": {
      "image/png": "[encoded data removed]",
      "text/plain": [
       "<Figure size 432x288 with 1 Axes>"
      ]
     },
     "metadata": {
      "needs_background": "light"
     },
     "output_type": "display_data"
    }
   ],
   "source": [
    "import geopandas\n",
    "\n",
    "df = data[['lat','lon']]\n",
    "\n",
    "gdf = geopandas.GeoDataFrame(\n",
    "    df, geometry=geopandas.points_from_xy(df.lon, df.lat))\n",
    "\n",
    "world = geopandas.read_file(geopandas.datasets.get_path('naturalearth_lowres'))\n",
    "\n",
    "\n",
    "# Mexico\n",
    "ax = world[world.name == 'Mexico'].plot(\n",
    "    color='white', edgecolor='black')\n",
    "\n",
    "# Plot\n",
    "gdf.plot(ax=ax, color='red')\n",
    "ax.set_title('Geospatial-México DD3 Data')\n",
    "plt.show()"
   ]
  },
  {
   "cell_type": "markdown",
   "metadata": {},
   "source": [
    "# 2.5 Analisis de Datos <a class=\"anchor\" id=\"2.5\"></a>\n",
    "\n",
    "\n",
    "Existen algunas observaciones: \n",
    "\n",
    "1. Es la presencia de distribución normal sobre el precio por m2.\n",
    "2. Para los boxplot en relación del precio por m2 y el número de habitaciones, para 1 y 4 habitaciones no existen (en su mayoria) valores atipicos. (Este valor comunmente son calculados con 2+ $\\sigma$. Para el máximo número de habitaciones es probable que sea de una casa ya que los departamenos y casas se valuan diferente."
   ]
  },
  {
   "cell_type": "code",
   "execution_count": 70,
   "metadata": {},
   "outputs": [
    {
     "data": {
      "image/png": "[encoded data removed]",
      "text/plain": [
       "<Figure size 864x576 with 4 Axes>"
      ]
     },
     "metadata": {
      "needs_background": "light"
     },
     "output_type": "display_data"
    }
   ],
   "source": [
    "import matplotlib as mpl\n",
    "from matplotlib.figure import Figure\n",
    "\n",
    "\n",
    "fig, ((ax1, ax2),(ax3, ax4)) = plt.subplots(2,2,figsize=(12,8))\n",
    "\n",
    "fig.suptitle('Housing - Data Analysis')\n",
    "\n",
    "ax1.hist(data['price_mod'],ec=\"black\")\n",
    "ax1.grid(color='grey')\n",
    "ax1.set_facecolor(\"white\")\n",
    "ax1.set_title('Housing Price distribution',fontsize=10)\n",
    "ax1.yaxis.set_major_formatter(mpl.ticker.StrMethodFormatter('{x:,.0f}'))\n",
    "ax1.xaxis.set_major_formatter(mpl.ticker.StrMethodFormatter('{x:,.0000f}'))\n",
    "\n",
    "ax2.hist(data['days_on_site'],color = \"skyblue\", ec=\"black\")\n",
    "ax2.grid(color='grey')\n",
    "ax2.set_facecolor(\"white\")\n",
    "ax2.set_title('Distribution-Days on site ',fontsize=10)\n",
    "ax2.yaxis.set_major_formatter(mpl.ticker.StrMethodFormatter('{x:,.0f}'))\n",
    "\n",
    "ax3.hist(data['num_bedrooms'],color = \"red\", ec=\"black\",bins=10,range= [0,10])\n",
    "ax3.grid(color='grey')\n",
    "ax3.set_facecolor(\"white\")\n",
    "ax3.set_title('Distribution - Number of bedrooms ',fontsize=10)\n",
    "ax3.yaxis.set_major_formatter(mpl.ticker.StrMethodFormatter('{x:,.0f}'))\n",
    "\n",
    "ax4.hist(data['price_square_meter'],color = \"green\", ec=\"black\",bins=10,range= [0,140000],cumulative=False)\n",
    "ax4.grid(color='grey')\n",
    "ax4.set_facecolor(\"white\")\n",
    "ax4.set_title('Distribution - m2 price',fontsize=10)\n",
    "ax4.yaxis.set_major_formatter(mpl.ticker.StrMethodFormatter('{x:,.0f}'))\n"
   ]
  },
  {
   "cell_type": "code",
   "execution_count": 46,
   "metadata": {
    "scrolled": true
   },
   "outputs": [
    {
     "data": {
      "text/plain": [
       "<matplotlib.axes._subplots.AxesSubplot at 0x7fdbeb06df98>"
      ]
     },
     "execution_count": 46,
     "metadata": {},
     "output_type": "execute_result"
    },
    {
     "data": {
      "image/png": "[encoded data removed]",
      "text/plain": [
       "<Figure size 1440x1080 with 3 Axes>"
      ]
     },
     "metadata": {
      "needs_background": "light"
     },
     "output_type": "display_data"
    }
   ],
   "source": [
    "fig, (ax1,ax2,ax3) = plt.subplots(3,1,figsize=(20,15))\n",
    "\n",
    "fig.suptitle('Variables - Data Analysis',fontsize=20)\n",
    "\n",
    "sb.boxplot(x=\"num_bedrooms\", y=\"price_square_meter\",\n",
    "                data=data, palette=\"Set3\", ax=ax1)\n",
    "\n",
    "sb.boxplot(x=\"amenities\", y=\"price_square_meter\",\n",
    "                 data=data, palette=\"Set3\",ax=ax2)\n",
    "\n",
    "sb.boxplot(x=\"disposition\", y=\"price_square_meter\",\n",
    "                 data=data, palette=\"Set3\",ax=ax3)"
   ]
  },
  {
   "cell_type": "markdown",
   "metadata": {},
   "source": [
    "# 2.6 Análisis Geoestadistico <a class=\"anchor\" id=\"2.6\"></a>\n",
    "\n",
    "Conexión a la API de INEGI para indagar en la información del DENUE y MarcoGeoestadistico."
   ]
  },
  {
   "cell_type": "code",
   "execution_count": 12,
   "metadata": {},
   "outputs": [],
   "source": [
    "# from INEGIpy import Indicadores, DENUE, MarcoGeoestadistico\n",
    "\n",
    "# # Se requiere un token proporcionado por el INEGI\n",
    "# token = [token necesario]\n",
    "# indicador = Indicadores(token) \n",
    "\n",
    "# geo = indicador.catalogo_indicadores('BISE',\n",
    "#                                  indicador = None)\n",
    "\n",
    "# indicador.obtener_df('6207048603',inicio= '2000',clave_area = '09')"
   ]
  },
  {
   "cell_type": "markdown",
   "metadata": {},
   "source": [
    "# 2.7 Modelo para determinar precio de la vivienda  <a class=\"anchor\" id=\"2.7\"></a>\n",
    "\n",
    "En esta sección haremos una recalibración, en el supuesto de que nuestra variable de respuesta ya fue previamente entrenada (precio) y haremos un reentrenamiento para encontrar las variables que explican el precio por m2. Para esto, usaremos un modelo **XGBoost Regresivo**."
   ]
  },
  {
   "cell_type": "markdown",
   "metadata": {},
   "source": [
    "## 2.7.1 Ingenieria de Caracteristicas <a class=\"anchor\" id=\"2.7.1\"></a>"
   ]
  },
  {
   "cell_type": "code",
   "execution_count": 157,
   "metadata": {},
   "outputs": [],
   "source": [
    "# Convertir variables a categorias\n",
    "from sklearn import preprocessing\n",
    "import warnings\n",
    "warnings.filterwarnings(\"ignore\")\n",
    "\n",
    "df_set = data[['days_on_site','amenities','age_in_years','bathrooms',\n",
    "           'cellars','num_floors','monthly_fee_transformed','apartments_per_floor',\n",
    "           'parking_lots','floor_situated','num_bedrooms','m2','final_price','lat','lon']]\n",
    "\n",
    "# cat_columns = df_set[['disposition','orientation']].columns\n",
    "\n",
    "# cat_var={col: data[col].nunique() for col in cat_columns}\n",
    "# cat_var\n",
    "  \n",
    "# # Entendimiento de etiquetas\n",
    "# label_encoder = preprocessing.LabelEncoder()\n",
    "  \n",
    "# # Encode Labels\n",
    "\n",
    "# for e in cat_columns:\n",
    "#     df_set[e]= label_encoder.fit_transform(df_set[e])\n",
    "  \n",
    "\n",
    "# Metodo en caso de tener problemas con valores nulos en variables númericas (Multivariate Imputation by Chained Equation)\n",
    "# from sklearn.experimental import enable_iterative_imputer\n",
    "# from sklearn.impute import IterativeImputer\n",
    "\n",
    "# def imputation(df: str, var: list) -> pd.DataFrame:\n",
    "#     \"\"\"\n",
    "#     handle missing values and replace values from original dataset\n",
    "#     df: pd.DataFrame()\n",
    "#     var: list of columns\n",
    "    \n",
    "#     return: pd.Dataframe\n",
    "#     \"\"\"\n",
    "#     imp = IterativeImputer(max_iter=10, random_state=0)\n",
    "#     imp.fit(df[var])\n",
    "#     dataset = pd.DataFrame(imp.transform(df[var]),columns= df[var].columns)\n",
    "    \n",
    "#     if not len(dataset.columns)>0:\n",
    "#         raise AssertionError('Error-There is not transformed columns')\n",
    "        \n",
    "#     for cols in dataset.columns:\n",
    "#         df[cols] = dataset[cols]\n",
    "        \n",
    "#     return df"
   ]
  },
  {
   "cell_type": "markdown",
   "metadata": {},
   "source": [
    "## 2.7.2 Modelo de evaluación <a class=\"anchor\" id=\"2.7.2\"></a>\n",
    "\n",
    "Para visualizar el problema, crearemos los siguientes arboles con XGBoost, el cual nos ayudará a predecir el valor de la viviendo dado las variables anteriormente estudiadas y transformadas. Donde de manera práctica asignamos valores iterativos manualmente en **hiperparametros** para obtener una mejor respues sobre la métrica de **Root Mean Squared Error**."
   ]
  },
  {
   "cell_type": "code",
   "execution_count": 158,
   "metadata": {},
   "outputs": [
    {
     "name": "stdout",
     "output_type": "stream",
     "text": [
      "[0]\tvalidation_0-rmse:6127976.50000\n",
      "[1]\tvalidation_0-rmse:5609781.50000\n",
      "[2]\tvalidation_0-rmse:5116678.50000\n",
      "[3]\tvalidation_0-rmse:4700041.50000\n",
      "[4]\tvalidation_0-rmse:4327313.50000\n",
      "[5]\tvalidation_0-rmse:4016464.00000\n",
      "[6]\tvalidation_0-rmse:3739658.25000\n",
      "[7]\tvalidation_0-rmse:3459484.50000\n",
      "[8]\tvalidation_0-rmse:3238384.00000\n",
      "[9]\tvalidation_0-rmse:3009963.00000\n"
     ]
    },
    {
     "data": {
      "text/plain": [
       "XGBRegressor(base_score=0.5, booster='gbtree', colsample_bylevel=1,\n",
       "             colsample_bynode=1, colsample_bytree=0.5, enable_categorical=False,\n",
       "             gamma=0.25, gpu_id=-1, importance_type=None,\n",
       "             interaction_constraints='', learning_rate=0.1, max_delta_step=0,\n",
       "             max_depth=4, min_child_weight=1, missing=1,\n",
       "             monotone_constraints='()', n_estimators=10, n_jobs=8,\n",
       "             num_parallel_tree=1, predictor='auto', random_state=42,\n",
       "             reg_alpha=0, reg_lambda=10, scale_pos_weight=3, seed=42,\n",
       "             subsample=0.9, tree_method='exact', validate_parameters=1,\n",
       "             verbosity=None)"
      ]
     },
     "execution_count": 158,
     "metadata": {},
     "output_type": "execute_result"
    }
   ],
   "source": [
    "from sklearn.model_selection import train_test_split\n",
    "from sklearn.metrics import balanced_accuracy_score, roc_auc_score,make_scorer,roc_curve,auc\n",
    "from sklearn.metrics import confusion_matrix\n",
    "from sklearn.metrics import plot_confusion_matrix\n",
    "from sklearn.metrics import classification_report\n",
    "import xgboost\n",
    "\n",
    "x = df_set.drop('final_price',axis=1)\n",
    "y = df_set['final_price']\n",
    "\n",
    "x_train,x_test,y_train,y_test = train_test_split(x,y, random_state=0,test_size=.30)\n",
    "\n",
    "\n",
    "trees = xgboost.XGBRegressor(missing=1,\n",
    "                                seed=42,\n",
    "                               gamma=0.25,\n",
    "                               learning_rate=0.1,\n",
    "                               max_depth=4,\n",
    "                               reg_lambda=10,\n",
    "                               scale_pos_weight=3,\n",
    "                                subsample=0.9,\n",
    "                                colsample_bytree=0.5,\n",
    "                                random_state=42,\n",
    "                                n_estimators=10\n",
    "                               )\n",
    "\n",
    "trees.fit(x_train,y_train,verbose=True,early_stopping_rounds=50,eval_set=[(x_test,y_test)])"
   ]
  },
  {
   "cell_type": "code",
   "execution_count": 159,
   "metadata": {},
   "outputs": [
    {
     "name": "stdout",
     "output_type": "stream",
     "text": [
      "Working directory-files:\n",
      "modelo\r\n"
     ]
    }
   ],
   "source": [
    "# Guardar modelo\n",
    "import pickle\n",
    "\n",
    "with open('modelo', 'wb') as file:\n",
    "     pickle.dump(trees, file)\n",
    "        \n",
    "#Nos aseguramos que el modelo se encuentre en nuestro directorio de trabajo usando nuestro shell bash dentro de jupyter\n",
    "#Al modelo le asignamos el nombre de:modelo\n",
    "print('Working directory-files:')\n",
    "!ls | grep modelo"
   ]
  },
  {
   "cell_type": "markdown",
   "metadata": {},
   "source": [
    "# 2.7.3 ¿Cúales variables impactan en el precio? <a class=\"anchor\" id=\"2.7.3\"></a>\n",
    "\n",
    "Como lo comentamos anteriormente, empiricamente el precio del m2 de las viviendas son determinados por los siguientes puntos:\n",
    "\n",
    "1. Calidad de los acabados.\n",
    "2. Bienes muebles disponibles dentro de la vivienda.\n",
    "3. Análisis de plusvalia. (Donde está ubicada, puntos importante de la ciudad, etc)\n",
    "\n",
    "Sin embargo, dado el tiempo disponible de desarrollo me hubiese encantado indagar más en un análisis GeoEspacial algo que buscaba realizar la con **API de INEGI y Kepler** el cual se quedó en desarrollo en el punto 2.6. Dado esto, realizamos un modelo el cual nos ayudara a determinar el precio del inmueble y posteriormente a obtener el precio por m2, para encontrar que variables impactan a nivel de modelos.\n",
    "\n",
    "En resumen, las variables las 7 variables mas importantes son:\n",
    "\n",
    "1. Número de estacionamientos.\n",
    "2. m2.\n",
    "3. Amenidades.\n",
    "4. Ubicación (Lat y Lon)\n",
    "5. Baños.\n",
    "6. Número de habitaciones."
   ]
  },
  {
   "cell_type": "code",
   "execution_count": null,
   "metadata": {},
   "outputs": [],
   "source": [
    "# Predicción\n",
    "\n",
    "y_pred = trees.predict(x)\n",
    "new_df = pd.DataFrame()\n",
    "new_df['price_prediction'],new_df['final_price'] = y_pred, df_set['final_price']\n",
    "new_df['m2'],new_df['price_square_meter'] = df_set['m2'],data['price_square_meter']\n",
    "new_df['m2_price_prediction'] = new_df['price_prediction']/new_df['m2']"
   ]
  },
  {
   "cell_type": "code",
   "execution_count": 161,
   "metadata": {},
   "outputs": [
    {
     "data": {
      "image/png": "[encoded data removed]",
      "text/plain": [
       "<Figure size 576x511.2 with 2 Axes>"
      ]
     },
     "metadata": {
      "needs_background": "light"
     },
     "output_type": "display_data"
    }
   ],
   "source": [
    "# Shap values son basados en la teoria de juegos.\n",
    "# Variables ordenadas en importancia marginal\n",
    "\n",
    "import shap \n",
    "\n",
    "explainer = shap.TreeExplainer(trees)\n",
    "shap_values = explainer.shap_values(x_test)\n",
    "shap.summary_plot(shap_values, x_test,show=False)"
   ]
  },
  {
   "cell_type": "code",
   "execution_count": 162,
   "metadata": {},
   "outputs": [
    {
     "data": {
      "image/svg+xml": [
       "<?xml version=\"1.0\" encoding=\"UTF-8\" standalone=\"no\"?>\n",
       "<!DOCTYPE svg PUBLIC \"-//W3C//DTD SVG 1.1//EN\"\n",
       " \"http://www.w3.org/Graphics/SVG/1.1/DTD/svg11.dtd\">\n",
       "<!-- Generated by graphviz version 2.43.0 (0)\n",
       " -->\n",
       "<!-- Title: %3 Pages: 1 -->\n",
       "<svg width=\"794pt\" height=\"305pt\"\n",
       " viewBox=\"0.00 0.00 794.00 305.00\" xmlns=\"http://www.w3.org/2000/svg\" xmlns:xlink=\"http://www.w3.org/1999/xlink\">\n",
       "<g id=\"graph0\" class=\"graph\" transform=\"scale(1 1) rotate(0) translate(4 301)\">\n",
       "<title>%3</title>\n",
       "<polygon fill=\"white\" stroke=\"transparent\" points=\"-4,4 -4,-301 790,-301 790,4 -4,4\"/>\n",
       "<!-- 0 -->\n",
       "<g id=\"node1\" class=\"node\">\n",
       "<title>0</title>\n",
       "<path fill=\"#78cb0e\" stroke=\"black\" d=\"M478,-297C478,-297 300,-297 300,-297 294,-297 288,-291 288,-285 288,-285 288,-273 288,-273 288,-267 294,-261 300,-261 300,-261 478,-261 478,-261 484,-261 490,-267 490,-273 490,-273 490,-285 490,-285 490,-291 484,-297 478,-297\"/>\n",
       "<text text-anchor=\"middle\" x=\"389\" y=\"-275.3\" font-family=\"Times,serif\" font-size=\"14.00\">parking_lots&lt;6.00000095</text>\n",
       "</g>\n",
       "<!-- 1 -->\n",
       "<g id=\"node2\" class=\"node\">\n",
       "<title>1</title>\n",
       "<path fill=\"#78cb0e\" stroke=\"black\" d=\"M382,-210C382,-210 224,-210 224,-210 218,-210 212,-204 212,-198 212,-198 212,-186 212,-186 212,-180 218,-174 224,-174 224,-174 382,-174 382,-174 388,-174 394,-180 394,-186 394,-186 394,-198 394,-198 394,-204 388,-210 382,-210\"/>\n",
       "<text text-anchor=\"middle\" x=\"303\" y=\"-188.3\" font-family=\"Times,serif\" font-size=\"14.00\">bathrooms&lt;10.000001</text>\n",
       "</g>\n",
       "<!-- 0&#45;&gt;1 -->\n",
       "<g id=\"edge1\" class=\"edge\">\n",
       "<title>0&#45;&gt;1</title>\n",
       "<path fill=\"none\" stroke=\"#ff0000\" d=\"M371.6,-260.8C359.01,-248.36 341.82,-231.36 327.79,-217.5\"/>\n",
       "<polygon fill=\"#ff0000\" stroke=\"#ff0000\" points=\"329.95,-214.72 320.38,-210.18 325.03,-219.69 329.95,-214.72\"/>\n",
       "<text text-anchor=\"middle\" x=\"364.5\" y=\"-231.8\" font-family=\"Times,serif\" font-size=\"14.00\">yes</text>\n",
       "</g>\n",
       "<!-- 2 -->\n",
       "<g id=\"node3\" class=\"node\">\n",
       "<title>2</title>\n",
       "<path fill=\"#78cb0e\" stroke=\"black\" d=\"M528,-210C528,-210 424,-210 424,-210 418,-210 412,-204 412,-198 412,-198 412,-186 412,-186 412,-180 418,-174 424,-174 424,-174 528,-174 528,-174 534,-174 540,-180 540,-186 540,-186 540,-198 540,-198 540,-204 534,-210 528,-210\"/>\n",
       "<text text-anchor=\"middle\" x=\"476\" y=\"-188.3\" font-family=\"Times,serif\" font-size=\"14.00\">bathrooms&lt;2.5</text>\n",
       "</g>\n",
       "<!-- 0&#45;&gt;2 -->\n",
       "<g id=\"edge2\" class=\"edge\">\n",
       "<title>0&#45;&gt;2</title>\n",
       "<path fill=\"none\" stroke=\"#0000ff\" d=\"M406.61,-260.8C419.34,-248.36 436.73,-231.36 450.92,-217.5\"/>\n",
       "<polygon fill=\"#0000ff\" stroke=\"#0000ff\" points=\"453.71,-219.67 458.42,-210.18 448.82,-214.66 453.71,-219.67\"/>\n",
       "<text text-anchor=\"middle\" x=\"479\" y=\"-231.8\" font-family=\"Times,serif\" font-size=\"14.00\">no, missing</text>\n",
       "</g>\n",
       "<!-- 3 -->\n",
       "<g id=\"node4\" class=\"node\">\n",
       "<title>3</title>\n",
       "<path fill=\"#78cb0e\" stroke=\"black\" d=\"M207,-123C207,-123 91,-123 91,-123 85,-123 79,-117 79,-111 79,-111 79,-99 79,-99 79,-93 85,-87 91,-87 91,-87 207,-87 207,-87 213,-87 219,-93 219,-99 219,-99 219,-111 219,-111 219,-117 213,-123 207,-123\"/>\n",
       "<text text-anchor=\"middle\" x=\"149\" y=\"-101.3\" font-family=\"Times,serif\" font-size=\"14.00\">lon&lt;&#45;100.295166</text>\n",
       "</g>\n",
       "<!-- 1&#45;&gt;3 -->\n",
       "<g id=\"edge3\" class=\"edge\">\n",
       "<title>1&#45;&gt;3</title>\n",
       "<path fill=\"none\" stroke=\"#ff0000\" d=\"M271.84,-173.8C247.86,-160.56 214.55,-142.18 188.67,-127.9\"/>\n",
       "<polygon fill=\"#ff0000\" stroke=\"#ff0000\" points=\"190.3,-124.8 179.85,-123.03 186.92,-130.93 190.3,-124.8\"/>\n",
       "<text text-anchor=\"middle\" x=\"248.5\" y=\"-144.8\" font-family=\"Times,serif\" font-size=\"14.00\">yes</text>\n",
       "</g>\n",
       "<!-- 4 -->\n",
       "<g id=\"node5\" class=\"node\">\n",
       "<title>4</title>\n",
       "<polygon fill=\"#e48038\" stroke=\"black\" points=\"377,-123 237,-123 237,-87 377,-87 377,-123\"/>\n",
       "<text text-anchor=\"middle\" x=\"307\" y=\"-101.3\" font-family=\"Times,serif\" font-size=\"14.00\">leaf=50535.6602</text>\n",
       "</g>\n",
       "<!-- 1&#45;&gt;4 -->\n",
       "<g id=\"edge4\" class=\"edge\">\n",
       "<title>1&#45;&gt;4</title>\n",
       "<path fill=\"none\" stroke=\"#0000ff\" d=\"M303.81,-173.8C304.36,-162.16 305.09,-146.55 305.72,-133.24\"/>\n",
       "<polygon fill=\"#0000ff\" stroke=\"#0000ff\" points=\"309.22,-133.33 306.19,-123.18 302.23,-133 309.22,-133.33\"/>\n",
       "<text text-anchor=\"middle\" x=\"347\" y=\"-144.8\" font-family=\"Times,serif\" font-size=\"14.00\">no, missing</text>\n",
       "</g>\n",
       "<!-- 5 -->\n",
       "<g id=\"node8\" class=\"node\">\n",
       "<title>5</title>\n",
       "<polygon fill=\"#e48038\" stroke=\"black\" points=\"539,-123 399,-123 399,-87 539,-87 539,-123\"/>\n",
       "<text text-anchor=\"middle\" x=\"469\" y=\"-101.3\" font-family=\"Times,serif\" font-size=\"14.00\">leaf=402322.312</text>\n",
       "</g>\n",
       "<!-- 2&#45;&gt;5 -->\n",
       "<g id=\"edge7\" class=\"edge\">\n",
       "<title>2&#45;&gt;5</title>\n",
       "<path fill=\"none\" stroke=\"#0000ff\" d=\"M474.58,-173.8C473.63,-162.16 472.34,-146.55 471.24,-133.24\"/>\n",
       "<polygon fill=\"#0000ff\" stroke=\"#0000ff\" points=\"474.72,-132.85 470.41,-123.18 467.75,-133.43 474.72,-132.85\"/>\n",
       "<text text-anchor=\"middle\" x=\"517.5\" y=\"-144.8\" font-family=\"Times,serif\" font-size=\"14.00\">yes, missing</text>\n",
       "</g>\n",
       "<!-- 6 -->\n",
       "<g id=\"node9\" class=\"node\">\n",
       "<title>6</title>\n",
       "<path fill=\"#78cb0e\" stroke=\"black\" d=\"M705,-123C705,-123 569,-123 569,-123 563,-123 557,-117 557,-111 557,-111 557,-99 557,-99 557,-93 563,-87 569,-87 569,-87 705,-87 705,-87 711,-87 717,-93 717,-99 717,-99 717,-111 717,-111 717,-117 711,-123 705,-123\"/>\n",
       "<text text-anchor=\"middle\" x=\"637\" y=\"-101.3\" font-family=\"Times,serif\" font-size=\"14.00\">num_bedrooms&lt;3.5</text>\n",
       "</g>\n",
       "<!-- 2&#45;&gt;6 -->\n",
       "<g id=\"edge8\" class=\"edge\">\n",
       "<title>2&#45;&gt;6</title>\n",
       "<path fill=\"none\" stroke=\"#ff0000\" d=\"M526.48,-173.84C539.63,-168.71 553.59,-162.66 566,-156 580.25,-148.36 595.02,-138.34 607.38,-129.29\"/>\n",
       "<polygon fill=\"#ff0000\" stroke=\"#ff0000\" points=\"609.59,-132 615.51,-123.21 605.4,-126.39 609.59,-132\"/>\n",
       "<text text-anchor=\"middle\" x=\"599\" y=\"-144.8\" font-family=\"Times,serif\" font-size=\"14.00\">no</text>\n",
       "</g>\n",
       "<!-- 7 -->\n",
       "<g id=\"node6\" class=\"node\">\n",
       "<title>7</title>\n",
       "<polygon fill=\"#e48038\" stroke=\"black\" points=\"140,-36 0,-36 0,0 140,0 140,-36\"/>\n",
       "<text text-anchor=\"middle\" x=\"70\" y=\"-14.3\" font-family=\"Times,serif\" font-size=\"14.00\">leaf=106023.414</text>\n",
       "</g>\n",
       "<!-- 3&#45;&gt;7 -->\n",
       "<g id=\"edge5\" class=\"edge\">\n",
       "<title>3&#45;&gt;7</title>\n",
       "<path fill=\"none\" stroke=\"#0000ff\" d=\"M133.01,-86.8C121.45,-74.36 105.66,-57.36 92.77,-43.5\"/>\n",
       "<polygon fill=\"#0000ff\" stroke=\"#0000ff\" points=\"95.33,-41.12 85.96,-36.18 90.21,-45.88 95.33,-41.12\"/>\n",
       "<text text-anchor=\"middle\" x=\"159.5\" y=\"-57.8\" font-family=\"Times,serif\" font-size=\"14.00\">yes, missing</text>\n",
       "</g>\n",
       "<!-- 8 -->\n",
       "<g id=\"node7\" class=\"node\">\n",
       "<title>8</title>\n",
       "<polygon fill=\"#e48038\" stroke=\"black\" points=\"298,-36 158,-36 158,0 298,0 298,-36\"/>\n",
       "<text text-anchor=\"middle\" x=\"228\" y=\"-14.3\" font-family=\"Times,serif\" font-size=\"14.00\">leaf=741826.438</text>\n",
       "</g>\n",
       "<!-- 3&#45;&gt;8 -->\n",
       "<g id=\"edge6\" class=\"edge\">\n",
       "<title>3&#45;&gt;8</title>\n",
       "<path fill=\"none\" stroke=\"#ff0000\" d=\"M184.42,-86.86C192.23,-81.89 199.97,-75.91 206,-69 211.85,-62.29 216.37,-53.78 219.74,-45.7\"/>\n",
       "<polygon fill=\"#ff0000\" stroke=\"#ff0000\" points=\"223.07,-46.78 223.31,-36.19 216.52,-44.32 223.07,-46.78\"/>\n",
       "<text text-anchor=\"middle\" x=\"225\" y=\"-57.8\" font-family=\"Times,serif\" font-size=\"14.00\">no</text>\n",
       "</g>\n",
       "<!-- 9 -->\n",
       "<g id=\"node10\" class=\"node\">\n",
       "<title>9</title>\n",
       "<polygon fill=\"#e48038\" stroke=\"black\" points=\"628,-36 488,-36 488,0 628,0 628,-36\"/>\n",
       "<text text-anchor=\"middle\" x=\"558\" y=\"-14.3\" font-family=\"Times,serif\" font-size=\"14.00\">leaf=696841.938</text>\n",
       "</g>\n",
       "<!-- 6&#45;&gt;9 -->\n",
       "<g id=\"edge9\" class=\"edge\">\n",
       "<title>6&#45;&gt;9</title>\n",
       "<path fill=\"none\" stroke=\"#ff0000\" d=\"M621.01,-86.8C609.45,-74.36 593.66,-57.36 580.77,-43.5\"/>\n",
       "<polygon fill=\"#ff0000\" stroke=\"#ff0000\" points=\"583.33,-41.12 573.96,-36.18 578.21,-45.88 583.33,-41.12\"/>\n",
       "<text text-anchor=\"middle\" x=\"614.5\" y=\"-57.8\" font-family=\"Times,serif\" font-size=\"14.00\">yes</text>\n",
       "</g>\n",
       "<!-- 10 -->\n",
       "<g id=\"node11\" class=\"node\">\n",
       "<title>10</title>\n",
       "<polygon fill=\"#e48038\" stroke=\"black\" points=\"786,-36 646,-36 646,0 786,0 786,-36\"/>\n",
       "<text text-anchor=\"middle\" x=\"716\" y=\"-14.3\" font-family=\"Times,serif\" font-size=\"14.00\">leaf=12562.8311</text>\n",
       "</g>\n",
       "<!-- 6&#45;&gt;10 -->\n",
       "<g id=\"edge10\" class=\"edge\">\n",
       "<title>6&#45;&gt;10</title>\n",
       "<path fill=\"none\" stroke=\"#0000ff\" d=\"M652.99,-86.8C664.55,-74.36 680.34,-57.36 693.23,-43.5\"/>\n",
       "<polygon fill=\"#0000ff\" stroke=\"#0000ff\" points=\"695.79,-45.88 700.04,-36.18 690.67,-41.12 695.79,-45.88\"/>\n",
       "<text text-anchor=\"middle\" x=\"722\" y=\"-57.8\" font-family=\"Times,serif\" font-size=\"14.00\">no, missing</text>\n",
       "</g>\n",
       "</g>\n",
       "</svg>\n"
      ],
      "text/plain": [
       "<graphviz.sources.Source at 0x7fdb7c10eeb8>"
      ]
     },
     "execution_count": 162,
     "metadata": {},
     "output_type": "execute_result"
    }
   ],
   "source": [
    "dtree=xgboost.to_graphviz(trees,num_trees=1,size=\"100,60\",\n",
    "                   condition_node_params=node_params,\n",
    "                   leaf_node_params=leaf_params,)\n",
    "\n",
    "dtree"
   ]
  },
  {
   "cell_type": "code",
   "execution_count": 163,
   "metadata": {},
   "outputs": [
    {
     "name": "stdout",
     "output_type": "stream",
     "text": [
      "weight:  {'days_on_site': 5.0, 'amenities': 4.0, 'bathrooms': 10.0, 'num_floors': 1.0, 'parking_lots': 3.0, 'floor_situated': 1.0, 'num_bedrooms': 7.0, 'm2': 11.0, 'lat': 13.0, 'lon': 10.0}\n",
      "gain:  {'days_on_site': 7887932358656.0, 'amenities': 34035376062464.0, 'bathrooms': 180475331084288.0, 'num_floors': 578344189952.0, 'parking_lots': 603172322148352.0, 'floor_situated': 4558034042880.0, 'num_bedrooms': 73737114222592.0, 'm2': 355853475512320.0, 'lat': 13214726225920.0, 'lon': 10021660262400.0}\n",
      "cover:  {'days_on_site': 116.80000305175781, 'amenities': 392.5, 'bathrooms': 410.0, 'num_floors': 46.0, 'parking_lots': 621.0, 'floor_situated': 80.0, 'num_bedrooms': 261.8571472167969, 'm2': 389.9090881347656, 'lat': 231.76922607421875, 'lon': 145.3000030517578}\n",
      "total_gain:  {'days_on_site': 39439661268992.0, 'amenities': 136141504249856.0, 'bathrooms': 1804753310842880.0, 'num_floors': 578344189952.0, 'parking_lots': 1809516966445056.0, 'floor_situated': 4558034042880.0, 'num_bedrooms': 516159774392320.0, 'm2': 3914388096417792.0, 'lat': 171791444082688.0, 'lon': 100216602624000.0}\n",
      "total_cover:  {'days_on_site': 584.0, 'amenities': 1570.0, 'bathrooms': 4100.0, 'num_floors': 46.0, 'parking_lots': 1863.0, 'floor_situated': 80.0, 'num_bedrooms': 1833.0, 'm2': 4289.0, 'lat': 3013.0, 'lon': 1453.0}\n"
     ]
    }
   ],
   "source": [
    "# Importancia relativa\n",
    "\n",
    "bst = trees.get_booster()\n",
    "for importance_type in ('weight','gain','cover','total_gain','total_cover'):\n",
    "    print('%s: '%importance_type, bst.get_score(importance_type=importance_type))\n",
    "node_params={\n",
    "    'shape': 'box',\n",
    "    'style': 'filled,rounded',\n",
    "    'fillcolor': '#78cbe'    \n",
    "}\n",
    "\n",
    "leaf_params={\n",
    "    'shape': 'box',\n",
    "    'style': 'filled',\n",
    "    'fillcolor': '#e48038'    \n",
    "}"
   ]
  },
  {
   "cell_type": "markdown",
   "metadata": {},
   "source": [
    "# 3 Web app <a class=\"anchor\" id=\"3\"></a>\n",
    "\n",
    "Esta no es la mejor manera de hacerlo para hacer un deployment a escala pero hagamos un ejemplo de algun front-end con Streamlit (Que corre en React) que es simple. ¿Porqué digo que no es lo optimo? Porque la empresa ya cuentan con un front-end y usando algun framework en especial, por lo tanto, la mejor manera es crear un **endpoint** desde Sagamaker o algun otro microframework back-end y API REST como **Flask** o **Django**."
   ]
  },
  {
   "cell_type": "code",
   "execution_count": null,
   "metadata": {},
   "outputs": [],
   "source": [
    "txt=\"\"\" \n",
    "1.- Para correr la app necesitaras usar algun distro de Linux \n",
    "se recomienda la versión descrita en la primera seccion del notebook\n",
    "\n",
    "2.- Si instalaste correctamente las dependencias, omite este paso.\n",
    "!pip install streamlit <-- (esta sintaxis puede cambiar al usar Propmt o Powershell)\n",
    "\n",
    "3.- Es necesario usar la misma version de libreria, favor de ir a la sección de \"Información del sistema y \n",
    "versiones de librerias\".\n",
    "\n",
    "4.- Corres la app con el siguiente comando ---> streamlit run ml-app.py (debe ser forzosamente extension .py y \n",
    "se encuentra dentro de la misma ruta (path)\n",
    "\"\"\"\n",
    "\n",
    "#!streamlit run ml-app.py"
   ]
  },
  {
   "cell_type": "markdown",
   "metadata": {},
   "source": [
    "## 3.1 Más sobre Modelos en producción <a class=\"anchor\" id=\"3.1\"></a>\n",
    "\n",
    "Es importante comentar que llegar a este punto ya es hablar de MLOps y todo lo que implica sacar un modelo a producción, sin embargo, es importante aclarar el labor de cada una de las personas que intervienen en el proceso de los modelos:\n",
    "\n",
    "1. **Data Scientis**: (Explorar datos y crear modelos)\n",
    "2. **Data Engineer**: (Disponibilizar la data e infraestructura de la misma)\n",
    "3. **Machine Learning Engineer:** Toma lo que hace el Data Scientist para llevar a sistemas de producción a escala, que es algo que ya estamos haciendo en este momento)\n",
    "4. **Devops:** Intervienen en la conexión del Modelo y la aplicacion del usuario final (En pocas palabras esta al pendiente que el modelo no afecte a la aplicacion y le preocupa la escalabilidad, estabilidad y la respuesta de esa interacción.\n",
    "5. **IT:** Administracion de recursos, permisos, seguridad.\n",
    "\n",
    "\n",
    "**Y este punto nos lleva a conocer un poco más sobre el laborar del Machine Learning Engineer** \n",
    "\n",
    "\n",
    "## ¿Cómo creamos estos sistema a escala?\n",
    "\n",
    "Bueno, es importante aclarar el porqué es necesario. Las ventajas de contar con una infraestructura adecuada nos permite:\n",
    "\n",
    "1. Ser escalables.\n",
    "2. Administración efectiva de modelos y software.\n",
    "3. Desarrollo colaborativo.\n",
    "4. Optimización de desempeño.\n",
    "5. Conseguir reproducibilidad.\n",
    "\n",
    "\n",
    "Esto es una tarea compleja, ya que hay entender que en el ciclo de vida de los modelos donde se define la contrucción, entrenamiento, lanzamiento y servida del modelo. Para esto uso una herramiento open-source que ayuda a administrar todo este pipeline donde tambien se incluye administración de experimentos y repositorio central de modelos (A veces necesitamos usar mas de 1 modelo en producción o hacer pruebas A/B). \n",
    "\n",
    "Vamos a hablar de las diferentes formas de poner un modelo en producción y obtener los resultados.\n",
    "\n",
    "\n",
    "# 3.2  MLFlow y AWS <a class=\"anchor\" id=\"3.3\"></a>\n",
    "\n",
    "Cabe destacar que para hacer uso efeciente de AWS necesitamos recursos disponibles (Alguna cuenta de laboratorio) que lo hace un poco complejo replicar todo un flujo de trabajo eficiente.\n",
    "\n",
    "Mlflow es una plataforma de fuente abierta para el ciclo de vida de proyectos de ML, con estos 4 componentes, los equipos de datos son mas eficientes y mas organizados a la hora de generar un modelo desde su contruccion hasta su alojamiento en la nube.\n",
    "\n",
    "![](https://lh4.googleusercontent.com/rwaMzrCLImiQtWVp0g5lcKS_Q82xaizNjHq2B3B0Cj93UL1kMREDOMsVJ-9yExH498z_elQPmiE43yILSxpl-HMmuvbTgacDMUmw4kIsOvowJKqCXHlEQSqEDeGWZsAMM78CJTv4)\n",
    "\n",
    "\n",
    "**Sin más que agregar, es importante destacar que MLflow nos permite hostear modelos de 2 maneras :**\n",
    "\n",
    "1. Desde el repositorio de modelos de Mlflow como un REST Endoint para hacer pruebas locales.\n",
    "2. En la nube. (Aqui uso la infraestructura de Amazon y servicios de ML para llevar acabo esta labor😉)\n",
    "\n",
    "Estas herramientas en conjunto son un potenciador para los equipos de ciencia de datos e ingenieros de aprendizaje automatico.\n",
    "\n",
    "Aca les comparto un ejemplo de como trabaja con AWS Sagemaker.\n",
    "\n",
    "**(Aqui lo importante es que al subir el modelo al model registry este crea un endpoint en Sagemaker, despues se crea una API Gateway y esta se manda a llamar desde una funcion Lambda en AWS y asi, se inscrusta desde un front-end ya listo  para personalizar la URL al gusto)** 😳\n",
    "\n",
    "![](https://miro.medium.com/max/1400/1*Cis5j5PyHYjFMgwbS1cxDQ.png)\n",
    "\n",
    "Y al igual que AWS Sagemaker tiene contenedores propios, Mlflow cuenta con los suyos para hacer esto posible. Sin embargo, el trabajo importante es adaptar el **images** a tus necesidades, en un momento pondré ejemplos de proyectos que anteriormente he atendido.\n",
    "\n",
    "\n",
    "## mlflow.sagemaker\n",
    "\n",
    "El modulo mlflow.sagemaker provee una API para lanzar modelos desde Mlflow en Sagemaker (Esto es conveniente cuando estas entrenando localmente y no es necesario el componente de entrenamiento de sagemaker.\n",
    "\n",
    "- Sigamos el quickstart donde se habla un poco de la instalacion y acceso a la Mlflow UI.\n",
    "- Tener un modelo listo en el registry de mlflow. (Puede contener sus métricas, artifacs, requirements y configuraciones)\n",
    "- Antes de que tengamos el modelo es importante modificar la siguiente funcion de python [mlflow.pyfunc](https://www.mlflow.org/docs/latest/_modules/mlflow/pyfunc.html) que está ligada al contenedor que existirá en ECR, sin embargo, esto es uno de los pasos mas complejos ya que debemos adaptar el caso de uso.\n",
    "- Puedes intentar entrar a la UI con el comando mlflow ui desde linux.\n",
    "\n",
    "Aqui viene lo interesante con respecto a sagemaker, es necesario correr algunas lineas de comando para obtener lo siguiente (Voy a ilustrar algunos ejemplos desde mi cuenta personal).\n",
    "\n",
    "- Lanzamos el contenedor a ECR (Elastic Container registry) de AWS con el siguiente comando: mlflow sagemaker build-and-push-container y con esto ya habriamos de haber creado el images en el repo de **mlflow-pyfunc** \n",
    "\n",
    "\n",
    "- Nos cercioramos que todo está enorme con el siguiente comando: aws ecr describe-images --repository-name mlflow-pyfunct --region-name **$REGION**\n",
    "\n",
    "\n",
    "- Corremos el comando mlflow sagemaker run-local -m **$MODEL_PATH** -p **LOCAL_PORT** (Tome en cuenta que estas son variables de entorno de una sesiona actual y las cuales ya no existiran luego de inicies otro shell) y esto nos servirá para hacer pruebas locales\n",
    "\n",
    "\n",
    "- Y por último, si todo sale bien, tendremos un endpoint en nuestro apartado de **inference** en sagemaker. \n",
    "\n",
    "\n",
    "- Y adicionalmente podrás hacer configuraciones a tu endpoint como por ejemplo, puedes hacer un **ProductionVariant** que es util para pruebas A/B o multimodelos en un solo endpoint, tambien otro ejemplo y va por el lado de ahorro de recursos es un endpoint serverless o usar el tradicional provisionado. Ojo que es importante observar en que tipo de instancia está colgado el endpoint por tema de costos (Por esto, no hice pruebas desde mis cuentas🙃).\n",
    "\n",
    "![](endpoint.png)\n",
    "\n",
    "Como te has dado cuenta, todo lo hicimos desde local y aprovechamos el feature de inference de sagemaker para hacer mas escalable los procesos de deployment y hosting.\n",
    "\n",
    "## AWS Sagemaker \n",
    "\n",
    "Llegamos a la parte más compleja que es aprovechar al 100% los recursos de sagemaker que demandan tiempo invertido en **orquestar** ciertos pipelines y tener disponibilidad de recursos financieros.\n",
    "\n",
    "Cabe destacar que existen 9 componentes de Sagemaker:\n",
    "\n",
    "- **Studio:** Dentro del estudio tenemos acceso a Notebooks, Feature store, Data wrangle, etc. Siempre con una instancia escendida para cada servicio lo cual es costoso.\n",
    "- **Ground Truth:** Servicio para etiquetar data.\n",
    "- **Notebook:** Igual que un jupyter notebook pero desde una instancia.\n",
    "- **Processing:** Los processing jobs son aquellas transformaciones de datos constantes y necesitan correrse cada cierto tiempo. (Feature engineering, validacion y evaluacion)\n",
    "- **Training:** Capacidad de entrenar modelos desde contenedores de Amazon, y al igual que mlflow, necesitan ser configurados o simplemente puedes usar el contenedor que ya te ofrece amazon (Para este caso de uso en particular en este ejercicio iba a ser necesario hacer cambios en el images al incrustar este script y sin embargo, tambien es posible crear tu propio contenedor, ademas este componente es util cuando tus recurso de computacion local no es necesario para llevar acabo el proceso de entrenamiento.\n",
    "- **Inference:** Aqui encontraremos todos los modelos entrenados **Model Registry** al igual que Mlflow y los endpoint vinculados a los modelos, además de hacer inferencia en Real-time o en forma Batch.\n",
    "- **Edge Manager:** Incrustar modelos en dispositivos.\n",
    "- **Augmented AI:** Ver de diferentes enfoques los datos, por ejemplo, una imagen puede tomar diferentes formas si esta es rotada a 90º, 60º, etc. Debemos preparar los algoritmos cuando se presenten estos tipos de casos.\n",
    "- **AWS Marketplace:** Te permite comprar o vender algoritmos.\n",
    "\n",
    "Como te daras cuenta, usamos solo algunos de los servicios de manera que cumpliera con el caso de uso actual, lo cual nos permite ser innovadores y a su vez ahorrar en costos de recursos de computacion. Es importante aclarar que estas herramientas son utiles porque cumplen con una funcion importante y es el ciclo de entrega de modelos bajo un enfoque Devops, llamado de otra manera, **MLOps**. Resumiremos esto en una ilustración.\n",
    "\n",
    "![](https://anotherreeshu.files.wordpress.com/2021/03/mlops-cycle-v2-1.png)\n",
    "\n",
    "Todo este proceso de **Diseño (Requerimiento de datos, ingenieria, herramientas), Desarrollo (Modelos,evaluación y validación) y Operaciones (Monitoreo, CI/CD/CT)** se cumple en sagemaker y el reto es orquestar todo este proceso hasta hacer una entrega eficiente de modelos que es como se describe bajo alguna arquitectura de MLOps que opera entre la intersección de la ciencia de datos y la ingenieria.\n",
    "\n",
    "Y como último punto, al ser tan extenso este pipeline; comunmente nos enfrentamos con problemas de Deuda Técnica.🧐 \n",
    "\n",
    "\n",
    "## Conclusiones <a class=\"anchor\" id=\"4\"></a>\n",
    "\n",
    "Como podran observar a lo largo del proyecto pudimoss describir sintetizadamente mi experiencia en proyectos de ML, a su vez, indagamos todos los pasos de ciclo de vida del aprendizaje automatico:\n",
    "\n",
    "1. Ingesta de datos.\n",
    "2. Extracción.\n",
    "3. Análisis. (y todos los pasos involucrados)\n",
    "4. Evaluación.\n",
    "5. Lanzamiento a producción.\n",
    "\n",
    "Lo cual me parece satisfactorio para este caso en particular dado lo que habia comentado anteriormente, me hubiera gustado tener más tiempo de dedicación al proyecto ya que fue de mi interés en recabar información GeoEstadistica, al igual que tener más acceso información interna para determinar mejor un resultado de factores con importancia relativa/marginal.\n",
    "\n",
    "# ¡Gracias! \n",
    "\n",
    "----\n",
    "\n",
    "\n",
    "### [ Volver al inicio](#5)"
   ]
  }
 ],
 "metadata": {
  "kernelspec": {
   "display_name": "Python 3 (ipykernel)",
   "language": "python",
   "name": "python3"
  },
  "language_info": {
   "codemirror_mode": {
    "name": "ipython",
    "version": 3
   },
   "file_extension": ".py",
   "mimetype": "text/x-python",
   "name": "python",
   "nbconvert_exporter": "python",
   "pygments_lexer": "ipython3",
   "version": "3.7.3"
  }
 },
 "nbformat": 4,
 "nbformat_minor": 2
}
